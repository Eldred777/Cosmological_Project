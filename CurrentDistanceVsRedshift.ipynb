{
 "cells": [
  {
   "cell_type": "code",
   "execution_count": 1,
   "id": "db7a7f1b",
   "metadata": {},
   "outputs": [
    {
     "name": "stdout",
     "output_type": "stream",
     "text": [
      "Comoving distance to a galaxy at z=0.300 is 3.90 Glyr (without radiation for now)\n",
      "Distance to a galaxy at z=1.000 when a=0.5 is 1.95 Glyr\n",
      "zarr= [0.  0.1 0.2 0.3 0.4 0.5 0.6 0.7 0.8 0.9 1.  1.1 1.2 1.3 1.4 1.5 1.6 1.7\n",
      " 1.8 1.9 2.  2.1 2.2 2.3 2.4 2.5 2.6 2.7 2.8 2.9 3.  3.1 3.2 3.3 3.4 3.5\n",
      " 3.6 3.7 3.8 3.9 4. ]\n"
     ]
    },
    {
     "data": {
      "image/png": "[encoded data removed]",
      "text/plain": [
       "<Figure size 432x288 with 1 Axes>"
      ]
     },
     "metadata": {
      "needs_background": "light"
     },
     "output_type": "display_data"
    }
   ],
   "source": [
    "# First let's set up our packages\n",
    "import numpy as np\n",
    "from matplotlib import pyplot as plt\n",
    "from scipy import integrate\n",
    "from numpy import sqrt\n",
    "\n",
    "# And set some constants\n",
    "c = 299792.458 # km/s (speed of light)\n",
    "\n",
    "H0kmsmpc = 70.  # Hubble constant in km/s/Mpc\n",
    "cH0mpc = c/H0kmsmpc   # c/H0 in Mpc  (the km/s cancel out in the numerator and denominator)\n",
    "cH0Glyr = cH0mpc * 3.262 / 1000 #c/H0 in billions of light years.  There are 3.262 light year / parsec\n",
    "\n",
    "# Write a function for the integrand, i.e. $1/E(z)$,\n",
    "def Ezinv(z, om, ol):\n",
    "    ok = 1.0-om-ol\n",
    "    Ez = np.sqrt(om * (1+z)**3 + ok * (1+z)**2 + ol) # left out radiation for now.\n",
    "    return 1.0/Ez\n",
    "\n",
    "# Choose the redshift (e.g. z=0.3)\n",
    "z=0.3\n",
    "\n",
    "# Choose a cosmology\n",
    "om, ol = 0.3, 0.7\n",
    "\n",
    "# Calcuate the integral (just the int_0^z(dz/E(z)) part, which givers xx=R0*X/(c/H_0)):\n",
    "xx = integrate.quad(Ezinv,0,z,args=(om,ol))[0] \n",
    "\n",
    "# Sub in the required constants to get the comoving distance R_0*X\n",
    "R0X = xx*cH0Glyr # Distance in Glyr\n",
    "\n",
    "print('Comoving distance to a galaxy at z=%.3f is %.2f Glyr (without radiation for now)'%(z,R0X))\n",
    "\n",
    "# Insert your code here\n",
    "distance_half_size = 0.5 * R0X\n",
    "distance_at_emission = 1/(1+z) * R0X\n",
    "\n",
    "# Remember to write print statements to see the answers. \n",
    "print('Distance to a galaxy at z=%.3f when a=0.5 is %.2f Glyr'%(1,distance_half_size))\n",
    "#print('Distance to a galaxy at z=%.3f when the light we see was emitted is %.2f Glyr'%(distance_at_emission)\n",
    "\n",
    "# Start by making an array of redshifts\n",
    "zstart = 0.0\n",
    "zstop = 4.1\n",
    "zstep = 0.1 # Make this finer to make the plot smoother\n",
    "zarr = np.arange(zstart,zstop,zstep)\n",
    "print('zarr=',zarr)\n",
    "\n",
    "# Now add your code to calculate distance vs redshift and then plot it.  \n",
    "xarr = np.zeros(len(zarr))\n",
    "for i, z in enumerate(zarr):\n",
    "    xarr[i] = integrate.quad(Ezinv,0,z,args=(om,ol))[0] \n",
    "    \n",
    "# Sub in the required constants to get the comoving distance R_0*X\n",
    "R0X = xarr*cH0Glyr # Distance in Glyr\n",
    "\n",
    "plt.plot(zarr,R0X)\n",
    "plt.xlabel('redshift')\n",
    "plt.ylabel('$R_0\\chi$ (Glyr)')\n",
    "plt.show()"
   ]
  },
  {
   "cell_type": "code",
   "execution_count": null,
   "id": "7013ecb6",
   "metadata": {},
   "outputs": [],
   "source": []
  }
 ],
 "metadata": {
  "kernelspec": {
   "display_name": "Python 3 (ipykernel)",
   "language": "python",
   "name": "python3"
  },
  "language_info": {
   "codemirror_mode": {
    "name": "ipython",
    "version": 3
   },
   "file_extension": ".py",
   "mimetype": "text/x-python",
   "name": "python",
   "nbconvert_exporter": "python",
   "pygments_lexer": "ipython3",
   "version": "3.9.7"
  }
 },
 "nbformat": 4,
 "nbformat_minor": 5
}
