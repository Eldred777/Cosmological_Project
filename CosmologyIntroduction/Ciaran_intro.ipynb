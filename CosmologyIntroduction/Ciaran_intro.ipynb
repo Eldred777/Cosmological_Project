{
 "cells": [
  {
   "cell_type": "markdown",
   "metadata": {},
   "source": [
    "Lots of this code is copied from https://astrouq.github.io/PHYS3080_2022/notebooks/CosmoIntro/ originally written by Tamara Davis."
   ]
  },
  {
   "cell_type": "code",
   "execution_count": null,
   "metadata": {},
   "outputs": [],
   "source": [
    "# First let's set up our packages\n",
    "import numpy as np\n",
    "from numpy import sqrt\n",
    "from matplotlib import pyplot as plt\n",
    "from scipy import integrate"
   ]
  },
  {
   "cell_type": "code",
   "execution_count": null,
   "metadata": {},
   "outputs": [],
   "source": [
    "# get current path to save images\n",
    "import os\n",
    "\n",
    "cd = os.path.dirname(os.path.abspath(\"./\"))\n",
    "print(cd)  # check correct path\n"
   ]
  },
  {
   "cell_type": "code",
   "execution_count": null,
   "metadata": {},
   "outputs": [],
   "source": [
    "def saveFigure(fig, filename):\n",
    "    # handy function\n",
    "    fig.savefig(\n",
    "        f\"{cd}/CosmologyIntroduction/plots/{filename}.png\",\n",
    "        transparent=False,\n",
    "        facecolor=\"w\",\n",
    "    )\n",
    "    fig.savefig(\n",
    "        f\"{cd}/CosmologyIntroduction/plots/{filename}.pdf\",\n",
    "        transparent=False,\n",
    "        facecolor=\"w\",\n",
    "    )\n"
   ]
  },
  {
   "cell_type": "markdown",
   "metadata": {},
   "source": [
    "# Section 1."
   ]
  },
  {
   "cell_type": "code",
   "execution_count": null,
   "metadata": {},
   "outputs": [],
   "source": [
    "c = 299792.458  # km/s (speed of light)\n",
    "\n",
    "H0kmsmpc = 70.0  # Hubble constant in km/s/Mpc\n",
    "H0s = (\n",
    "    H0kmsmpc * 3.2408e-20\n",
    ")  # H0 in inverse seconds is H0 in km/s/Mpc * (3.2408e-20 Mpc/km)\n",
    "H0y = (\n",
    "    H0s * 3.154e7 * 1.0e9\n",
    ")  # H0 in inverse Gigayears is H0 in inverse seconds * (3.154e7 seconds/year) * (1e9 years / gigayear)\n",
    "print(\"Hubble time = \", 1 / H0y, \"Gyr\")\n",
    "\n",
    "# Let's format that to a more appropriate number of significant figures.\n",
    "# The first % means put the variable here.  The .2f means make it a float with 2 decimal places.\n",
    "print(\"Hubble time = %.2f Gyr\" % (1 / H0y))\n"
   ]
  },
  {
   "cell_type": "markdown",
   "metadata": {},
   "source": [
    "We set here that\n",
    "$$\n",
    "    \\dot{a} = \\frac{1}{\\sqrt{a}}. \n",
    "$$"
   ]
  },
  {
   "cell_type": "code",
   "execution_count": null,
   "metadata": {},
   "outputs": [],
   "source": [
    "# keep the constant H_0 outside the integral and add it later\n",
    "def adotinv_flatMatter(a):\n",
    "    return np.sqrt(a)\n",
    "\n",
    "\n",
    "# Now integrate that equation from scalefactor 0 to 1 (as an example) which will give the age of the universe today (because we define a so that a=1 today):\n",
    "age_Hubble, uncert = integrate.quad(adotinv_flatMatter, 0, 1)\n",
    "# This returns age in Hubble times, and the uncertainty in the numerical integral\n",
    "\n",
    "# Convert that to billions of years\n",
    "age_Gyr = age_Hubble / H0y  # Age in Gyr\n",
    "\n",
    "print(\n",
    "    \"Age of the universe in Hubble times = %.3f which is %.2f Gyr\"\n",
    "    % (age_Hubble, age_Gyr)\n",
    ")\n",
    "print(\"Does this match the analytic prediction of 2/3 Hubble times?  Yes!\")\n",
    "print(\"\")\n",
    "print(\n",
    "    \"Uncertainty on the numerical integral is \", uncert, \"so should be negligible.\"\n",
    ")  # It's good to check this to check that the integral has succeeded.\n",
    "\n",
    "# Note, to get just the age without the uncertainty you can use [0] to get the first element that's returned,\n",
    "# and then you can also divide by H0y immediately to get the age in one step\n",
    "age_Gyr_easier = integrate.quad(adotinv_flatMatter, 0, 1)[0] / H0y\n",
    "\n",
    "print(\n",
    "    \"Just checking that the one-step age calculation (%.2f Gyr) matches the two step one (%.2f Gyr).\"\n",
    "    % (age_Gyr_easier, age_Gyr)\n",
    ")\n"
   ]
  },
  {
   "cell_type": "code",
   "execution_count": null,
   "metadata": {},
   "outputs": [],
   "source": [
    "age_half_H0, half_uncert = integrate.quad(adotinv_flatMatter, 0, 0.5)\n",
    "age_double_H0, double_uncert = integrate.quad(adotinv_flatMatter, 1, 2)\n",
    "\n",
    "# Remember to write print statements to see the answers.\n",
    "print(f\"{age_half_H0=:.2f} /H0 (natural units), integral uncertainty {half_uncert}\")\n",
    "print(f\"{age_double_H0=:.2f} /H0, integral uncertainty {double_uncert}\")\n"
   ]
  },
  {
   "cell_type": "markdown",
   "metadata": {},
   "source": [
    "# Section 2. Scalefactor vs time "
   ]
  },
  {
   "cell_type": "code",
   "execution_count": null,
   "metadata": {},
   "outputs": [],
   "source": [
    "# Start by making an array of scalefactors\n",
    "astart = 0.1\n",
    "astop = 2.1\n",
    "astep = 0.1  # Make this finer to make the plot smoother\n",
    "a_arr = np.arange(astart, astop, astep)\n",
    "print(f\"{a_arr=}\")\n"
   ]
  },
  {
   "cell_type": "markdown",
   "metadata": {},
   "source": [
    "Analytic equation in question,\n",
    "$$\n",
    "    t_\\alpha = \\int_0^\\alpha \\frac{da}{\\dot{a}}.\n",
    "$$\n",
    "Set \n",
    "$$\n",
    "    \\dot{a} = \\frac{1}{\\sqrt{a}}. \n",
    "$$\n",
    "Then this integral has solution \n",
    "$$\n",
    "    t_\\alpha = \\frac{2 (\\alpha)^{3/2}}{3}. \n",
    "$$"
   ]
  },
  {
   "cell_type": "code",
   "execution_count": null,
   "metadata": {},
   "outputs": [],
   "source": [
    "# First set up an array of times (initially all set to zero) into which we'll put our calculated times\n",
    "t_Gyr = np.zeros(len(a_arr))  # len(a_arr) gives the length of the a_arr\n",
    "\n",
    "# Make a loop and do that integral for every final value of a (starting at a=0 every time)\n",
    "for i, a_end in enumerate(a_arr):  # enumerate adds an index to each value\n",
    "    t_Hubble, uncert = integrate.quad(adotinv_flatMatter, 0, a_end)\n",
    "    t_Gyr[i] = t_Hubble / H0y\n",
    "\n",
    "# It's good practise to compare it to the analytic calculation when available\n",
    "t_analytic_fn = lambda x: 2 * x * sqrt(x) / 3\n",
    "t_analytic_Gyr = t_analytic_fn(a_arr) / H0y\n",
    "\n",
    "fig, ax = plt.subplots()\n",
    "ax.plot(t_Gyr, a_arr)\n",
    "ax.plot(age_Gyr, 1.0, \"o\")  # Put a dot at the current time\n",
    "ax.plot(t_analytic_Gyr, a_arr, \":\", color=\"red\")\n",
    "ax.set_xlabel(\"Time (Gyr)\")\n",
    "ax.set_ylabel(\"Scalefactor\")\n",
    "ax.grid()\n"
   ]
  },
  {
   "cell_type": "code",
   "execution_count": null,
   "metadata": {},
   "outputs": [],
   "source": [
    "t2_Gyr = (\n",
    "    np.array([integrate.quad(adotinv_flatMatter, 0, a_end)[0] for a_end in a_arr]) / H0y\n",
    ")\n",
    "\n",
    "fig, ax = plt.subplots()\n",
    "ax.plot(t_Gyr, a_arr, label=\"longhand\")  # Plot original from above\n",
    "ax.plot(\n",
    "    t2_Gyr, a_arr, \"--\", color=\"black\", label=\"shortcut\"\n",
    ")  # Plot new one-line calculation to show it is the same\n",
    "ax.plot(t_analytic_Gyr, a_arr, \":\", color=\"red\", label=\"analytic\")\n",
    "ax.plot(age_Gyr, 1.0, \"o\", label=\"today\")  # Put a dot at the current time\n",
    "ax.set_xlabel(\"Time (Gyr)\")\n",
    "ax.set_ylabel(\"Scalefactor\")\n",
    "ax.grid()\n",
    "ax.legend(frameon=False)\n"
   ]
  },
  {
   "cell_type": "markdown",
   "metadata": {},
   "source": [
    "## 2.1 Lookback time - for you\n",
    "It can be useful to normalise time to be 0 at the present day, then everything in the past is a negative time relative to today. You can do that by setting the lower limit of the integral to a=1.0, then all times are measured relative to the present time."
   ]
  },
  {
   "cell_type": "code",
   "execution_count": null,
   "metadata": {},
   "outputs": [],
   "source": [
    "# for a flat matter-dominated universe\n",
    "\n",
    "t_lookback_Gyr = t_analytic_Gyr - age_Gyr\n",
    "\n",
    "fig, ax = plt.subplots()\n",
    "\n",
    "ax.plot(t_lookback_Gyr, a_arr)\n",
    "ax.axvline(x=0, linestyle=\":\")  # Plot some crosshairs\n",
    "ax.axhline(y=1, linestyle=\":\")\n",
    "ax.plot(0.0, 1.0, \"o\")  # Put a dot at the current time\n",
    "ax.set_xlabel(\"Lookback time (Gyr)\")\n",
    "ax.set_ylabel(\"Scalefactor\")\n",
    "ax.grid()\n"
   ]
  },
  {
   "cell_type": "markdown",
   "metadata": {},
   "source": [
    "## 2.2 Another way to calculate lookback time \n",
    "If you don't want to do the integral again (integrals can be computationally expensive) you can find the time closest to the present day by finding the index closest to a=1.0, and subtracting that time from all the times in the array. Give that a go..."
   ]
  },
  {
   "cell_type": "code",
   "execution_count": null,
   "metadata": {},
   "outputs": [],
   "source": [
    "# First calculate the index corresponding to a=1.0.  (Find when |a-1.0| is minimum.  You could also do this by just redoing the integral from 0<a<1, but the way I've set it up above we know we have an a=1 in the array, so we can just find what we've already calculated.)\n",
    "index_today = np.argmin(np.abs(a_arr - 1.0))\n",
    "\n",
    "# Then find the time corresponding to that index  (note you do NOT have to do the integral again)\n",
    "age_today_Gyr = t_analytic_Gyr[index_today]\n",
    "print(f\"{age_today_Gyr=}\")\n",
    "\n",
    "t2_lookback_Gyr = t_analytic_Gyr - age_today_Gyr\n",
    "\n",
    "fig, ax = plt.subplots()\n",
    "ax.plot(t2_lookback_Gyr, a_arr)\n",
    "ax.axvline(x=0, linestyle=\":\")  # Plot some crosshairs\n",
    "ax.axhline(y=1, linestyle=\":\")\n",
    "ax.plot(0.0, 1.0, \"o\")  # Put a dot at the current time\n",
    "ax.set_xlabel(\"Lookback time (Gyr)\")\n",
    "ax.set_ylabel(\"Scalefactor\")\n"
   ]
  },
  {
   "cell_type": "markdown",
   "metadata": {},
   "source": [
    "## 2.x Plots for thingo\n",
    "\n",
    "Aim is to have this section be stand-alone."
   ]
  },
  {
   "cell_type": "code",
   "execution_count": null,
   "metadata": {},
   "outputs": [],
   "source": [
    "# First write a function that takes as input a, Omega_M (om), and Omega_Lambda (ol) and outputs 1/adot\n",
    "def adotinv(a, om, ol) -> float:\n",
    "    \"\"\"Return reciprocal of da/dt given a, Omega_M, Omega_Lambda.\"\"\"\n",
    "    ok = 1 - om - ol\n",
    "    adot = a * sqrt(om * 1 / (a**3) + ok * 1 / (a**2) + ol)\n",
    "    return 1.0 / adot\n"
   ]
  },
  {
   "cell_type": "code",
   "execution_count": null,
   "metadata": {},
   "outputs": [],
   "source": [
    "# Start by making an array of scalefactors\n",
    "astep = 0.001  # Make this finer to make the plot smoother\n",
    "astart = astep\n",
    "astop = 2.1\n",
    "a_arr = np.arange(astart, astop, astep)\n",
    "\n",
    "z_arr = 1 / (1 + a_arr)\n",
    "\n",
    "t_Gyr = (\n",
    "    np.array([integrate.quad(adotinv, 0, a_end, args=(1, 0))[0] for a_end in a_arr])\n",
    "    / H0y\n",
    ")\n",
    "\n",
    "index_today = np.argmin(np.abs(a_arr - 1.0))\n",
    "\n",
    "age_today_Gyr = t_Gyr[index_today]\n",
    "print(f\"{age_today_Gyr=}\")\n",
    "\n",
    "t_lookback_Gyr = t_Gyr - age_today_Gyr\n"
   ]
  },
  {
   "cell_type": "code",
   "execution_count": null,
   "metadata": {},
   "outputs": [],
   "source": [
    "fig, ax = plt.subplots()\n",
    "ax.plot(t_lookback_Gyr, a_arr)\n",
    "ax.axvline(x=0, linestyle=\":\")  # Plot some crosshairs\n",
    "ax.axhline(y=1, linestyle=\":\")\n",
    "ax.set_xlabel(\"Lookback Time (Gyr)\")\n",
    "ax.set_ylabel(\"Scalefactor\")\n",
    "ax.grid()\n",
    "saveFigure(fig, \"scalefactor_vs_lookback_time\")\n"
   ]
  },
  {
   "cell_type": "code",
   "execution_count": null,
   "metadata": {},
   "outputs": [],
   "source": [
    "# Start by making an array of scalefactors\n",
    "astep = 0.001  # Make this finer to make the plot smoother\n",
    "astart = astep\n",
    "astop = 10\n",
    "a_arr = np.arange(astart, astop, astep)\n",
    "\n",
    "z_arr = 1 / (1 + a_arr)\n",
    "\n",
    "t_Gyr = (\n",
    "    np.array([integrate.quad(adotinv, 0, a_end, args=(1, 0))[0] for a_end in a_arr])\n",
    "    / H0y\n",
    ")\n",
    "\n",
    "index_today = np.argmin(np.abs(a_arr - 1.0))\n",
    "\n",
    "age_today_Gyr = t_Gyr[index_today]\n",
    "print(f\"{age_today_Gyr=}\")\n",
    "\n",
    "t_lookback_Gyr = t_Gyr - age_today_Gyr\n"
   ]
  },
  {
   "cell_type": "code",
   "execution_count": null,
   "metadata": {},
   "outputs": [],
   "source": [
    "fig, ax = plt.subplots()\n",
    "ax.plot(t_lookback_Gyr, z_arr)\n",
    "# ax.axhline(y=0, linestyle=\":\")  # Plot some crosshairs\n",
    "ax.axvline(x=0, linestyle=\":\")\n",
    "ax.set_xlabel(\"Lookback Time (Gyr)\")\n",
    "ax.set_ylabel(\"Redshift\")\n",
    "ax.grid()\n",
    "saveFigure(fig, \"redshift_vs_lookback_time\")\n"
   ]
  },
  {
   "cell_type": "code",
   "execution_count": null,
   "metadata": {},
   "outputs": [],
   "source": [
    "fig, ax = plt.subplots()\n",
    "ax.plot(z_arr, t_lookback_Gyr)\n",
    "ax.axhline(y=0, linestyle=\":\")  # Plot some crosshairs\n",
    "# ax.axhline(y=0, linestyle=\":\")\n",
    "ax.set_xlabel(\"Redshift\")\n",
    "ax.set_ylabel(\"Lookback Time (Gyr)\")\n",
    "ax.grid()\n",
    "saveFigure(fig, \"lookback_time_vs_redshift\")\n"
   ]
  },
  {
   "cell_type": "markdown",
   "metadata": {},
   "source": [
    "# Section 3. More complex models"
   ]
  },
  {
   "cell_type": "markdown",
   "metadata": {},
   "source": [
    "In general Friedmann's equation gives,\n",
    "$$\n",
    "    H(a)^2 = \\frac{\\dot a^2}{a^2} = H_0^2 \\sum_i \\Omega_i a^{-3(1+w_i)}\n",
    "$$\n",
    "where the $\\Omega_i$ correspond to different components of the universe (like matter) and $w_i$ are the corresponding equations of state.\n",
    "\n",
    "Writing that out more fully we should consider matter density ΩM\n",
    "(includes normal and dark matter and $w_M=0$); curvature $\\Omega_K=1.0− \\Omega_M−\\Omega_\\Lambda$ ($w_K=−1/3$); and cosmological constant $\\Omega_\\Lambda$ ($w_\\Lambda =−1$).\n",
    "\n",
    "Later we'll consider a more general dark energy $\\Omega_x$\n",
    "($w_x=$ unknown), and also add radiation density $\\Omega_R$ ($w_R=1/3$).\n",
    "\n",
    "Expanding the sum above for a universe with matter and a cosmological constant we get, \n",
    "$$\n",
    "    \\frac{\\dot a}{a} = H_0 \\left[ \\Omega_M a^{-3} + \\Omega_K a^{-2} + \\Omega_\\Lambda \\right]^{1/2}\n",
    "$$\n",
    "\n",
    "Now let's integrate this more complex function."
   ]
  },
  {
   "cell_type": "code",
   "execution_count": null,
   "metadata": {},
   "outputs": [],
   "source": [
    "# First write a function that takes as input a, Omega_M (om), and Omega_Lambda (ol) and outputs 1/adot\n",
    "def adotinv(a, om, ol) -> float:\n",
    "    \"\"\"Return reciprocal of da/dt given a, Omega_M, Omega_Lambda.\"\"\"\n",
    "    ok = 1 - om - ol\n",
    "    adot = a * sqrt(om * 1 / (a**3) + ok * 1 / (a**2) + ol)\n",
    "    return 1.0 / adot\n"
   ]
  },
  {
   "cell_type": "code",
   "execution_count": null,
   "metadata": {},
   "outputs": [],
   "source": [
    "# Calculate for the universe we think we live in, with approximately matter density 0.3 and cosmological constant 0.7\n",
    "om = 0.3\n",
    "ol = 0.7\n",
    "\n",
    "# Note that when you integrate something with more than one argument you pass it with args=(arg1,arg2) in the integrate function\n",
    "# e.g. \"integrate.quad(adotinv, lower_limit, upper_limit, args=(om,ol))\"\"\n",
    "t_today_Gyr, _ = integrate.quad(adotinv, 0, 1, args=(om, ol))\n",
    "t_Gyr = np.array(\n",
    "    [integrate.quad(adotinv, 0, a_end, args=(om, ol))[0] for a_end in a_arr[1:]]\n",
    ")\n",
    "# slice [1:] to avoid division by zero error\n",
    "t_lookback_Gyr = t_Gyr - t_today_Gyr\n",
    "\n",
    "# Plot this new model\n",
    "fig, ax = plt.subplots()\n",
    "# slice a_arr [1:] for same reason as t_Gyr slice\n",
    "ax.plot(\n",
    "    t_lookback_Gyr, a_arr[1:], label=f\"($\\Omega_M,\\Omega_\\Lambda$)=({om:.2f},{ol:.2f})\"\n",
    ")\n",
    "ax.axvline(x=0, linestyle=\":\")  # Plot some crosshairs\n",
    "ax.axhline(y=1, linestyle=\":\")\n",
    "ax.set_xlabel(\"Lookback time (Gyr)\")\n",
    "ax.set_ylabel(\"Scalefactor\")\n",
    "ax.grid()\n",
    "ax.legend(loc=\"lower right\", frameon=False)\n",
    "saveFigure(fig, \"our_universe\")\n"
   ]
  },
  {
   "cell_type": "markdown",
   "metadata": {},
   "source": [
    "## 3.1 Your turn! Build your own universes!\n",
    "\n",
    "\n",
    "Change the input matter density and cosmological constant:\n",
    "- Can you make a universe that recollapses?\n",
    "- What about one that has a bounce instead of a Big Bang in the past?\n",
    "- What about one that always decelerates but never recollapses?\n",
    "- Can you find any really weird behaviour? If so can you explain it?"
   ]
  },
  {
   "cell_type": "code",
   "execution_count": null,
   "metadata": {},
   "outputs": [],
   "source": [
    "# Redefine here for convenience.\n",
    "astart = 0.1\n",
    "astop = 2.1\n",
    "astep = 0.01  # Make this finer to make the plot smoother\n",
    "a_arr = np.arange(astart, astop, astep)\n"
   ]
  },
  {
   "cell_type": "code",
   "execution_count": null,
   "metadata": {},
   "outputs": [],
   "source": [
    "## RECOLLAPSES\n",
    "om = 2\n",
    "ol = 0\n",
    "\n",
    "t_today_Gyr, _ = integrate.quad(adotinv, 0, 1, args=(om, ol))\n",
    "t_Gyr = np.array(\n",
    "    [integrate.quad(adotinv, 0, a_end, args=(om, ol))[0] for a_end in a_arr[1:]]\n",
    ")\n",
    "# slice [1:] to avoid division by zero error\n",
    "t_lookback_Gyr = t_Gyr - t_today_Gyr\n",
    "\n",
    "# Plot this new model\n",
    "fig, ax = plt.subplots()\n",
    "# slice a_arr [1:] for same reason as t_Gyr slice\n",
    "ax.plot(\n",
    "    t_lookback_Gyr, a_arr[1:], label=f\"($\\Omega_M,\\Omega_\\Lambda$)=({om:.2f},{ol:.2f})\"\n",
    ")\n",
    "ax.axvline(x=0, linestyle=\":\")  # Plot some crosshairs\n",
    "ax.axhline(y=1, linestyle=\":\")\n",
    "ax.set_xlabel(\"Lookback time (Gyr)\")\n",
    "ax.set_ylabel(\"Scalefactor\")\n",
    "ax.legend(loc=\"lower right\", frameon=False)\n",
    "ax.grid()\n",
    "\n",
    "if not np.all(t_Gyr):\n",
    "    print(\"Undefined values for given a, possibly recollapsing.\")\n",
    "\n",
    "saveFigure(fig, \"recollapsing\")\n"
   ]
  },
  {
   "cell_type": "markdown",
   "metadata": {},
   "source": [
    "To find the big bounce, we integrate from the minimum $a$ to maximum $a$. We need to find the minimum $a$. Recall that $dt= \\frac{da}{\\dot{a}} $ and\n",
    "$$\n",
    "    \\dot a = H_0a \\left[ \\Omega_M a^{-3} + \\Omega_K a^{-2} + \\Omega_\\Lambda \\right]^{1/2}. \n",
    "$$\n",
    "We want to find when $da/dt = 0$, so we set $\\dot{a}=0$ in the above. We can rearrange this to be in the form of the roots of a depressed cubic $t^3 + pt + q$, namely\n",
    "$$\n",
    "    0 = \\frac{\\Omega_M}{\\Omega_\\Lambda} + \\frac{(1 - \\Omega_M)}{\\Omega_\\Lambda} a + a^3. \n",
    "$$\n",
    "If $4p^3 + 27q^2 = 0$ and $p \\neq 0$, then a depressed cubic has roots \n",
    "$$\n",
    "    \\frac{3q}{p},-\\frac{3q}{2p},\n",
    "$$\n",
    "with the second root of multiplicity two. "
   ]
  },
  {
   "cell_type": "code",
   "execution_count": null,
   "metadata": {},
   "outputs": [],
   "source": [
    "## BIG BOUNCE\n",
    "om = 0.1\n",
    "ol = 2\n",
    "\n",
    "t_today_Gyr, _ = integrate.quad(adotinv, 1, 1, args=(om, ol))\n",
    "t_Gyr = np.array(\n",
    "    [integrate.quad(adotinv, 1, a_end, args=(om, ol))[0] for a_end in a_arr[1:]]\n",
    ")\n",
    "# slice [1:] to avoid division by zero error\n",
    "t_lookback_Gyr = t_Gyr - t_today_Gyr\n",
    "\n",
    "# Plot this new model\n",
    "fig, ax = plt.subplots()\n",
    "# slice a_arr [1:] for same reason as t_Gyr slice\n",
    "ax.plot(\n",
    "    t_lookback_Gyr, a_arr[1:], label=f\"($\\Omega_M,\\Omega_\\Lambda$)=({om:.2f},{ol:.2f})\"\n",
    ")\n",
    "ax.axvline(x=0, linestyle=\":\")  # Plot some crosshairs\n",
    "ax.axhline(y=1, linestyle=\":\")\n",
    "ax.set_xlabel(\"Lookback time (Gyr)\")\n",
    "ax.set_ylabel(\"Scalefactor\")\n",
    "ax.set_ylim([0, np.max(a_arr)])\n",
    "ax.legend(loc=\"lower right\", frameon=False)\n",
    "ax.grid()\n",
    "saveFigure(fig, \"big_bounce\")\n"
   ]
  },
  {
   "cell_type": "code",
   "execution_count": null,
   "metadata": {},
   "outputs": [],
   "source": [
    "## DECELERATES\n",
    "om = 1\n",
    "ol = 0\n",
    "\n",
    "t_today_Gyr, _ = integrate.quad(adotinv, 0, 1, args=(om, ol))\n",
    "t_Gyr = np.array(\n",
    "    [integrate.quad(adotinv, 0, a_end, args=(om, ol))[0] for a_end in a_arr[1:]]\n",
    ")\n",
    "# slice [1:] to avoid division by zero error\n",
    "t_lookback_Gyr = t_Gyr - t_today_Gyr\n",
    "\n",
    "# Plot this new model\n",
    "fig, ax = plt.subplots()\n",
    "# slice a_arr [1:] for same reason as t_Gyr slice\n",
    "ax.plot(\n",
    "    t_lookback_Gyr, a_arr[1:], label=f\"($\\Omega_M,\\Omega_\\Lambda$)=({om:.2f},{ol:.2f})\"\n",
    ")\n",
    "ax.axvline(x=0, linestyle=\":\")  # Plot some crosshairs\n",
    "ax.axhline(y=1, linestyle=\":\")\n",
    "ax.set_xlabel(\"Lookback time (Gyr)\")\n",
    "ax.set_ylabel(\"Scalefactor\")\n",
    "ax.legend(loc=\"lower right\", frameon=False)\n",
    "ax.grid()\n",
    "saveFigure(fig, \"decel\")\n"
   ]
  },
  {
   "cell_type": "code",
   "execution_count": null,
   "metadata": {},
   "outputs": [],
   "source": [
    "## expanding very very fast\n",
    "om = 0.1\n",
    "ol = 0 \n",
    "\n",
    "t_today_Gyr, _ = integrate.quad(adotinv, 1, 1, args=(om, ol))\n",
    "t_Gyr = np.array(\n",
    "    [integrate.quad(adotinv, 1, a_end, args=(om, ol))[0] for a_end in a_arr[1:]]\n",
    ")\n",
    "# slice [1:] to avoid division by zero error\n",
    "t_lookback_Gyr = t_Gyr - t_today_Gyr\n",
    "\n",
    "# Plot this new model\n",
    "fig, ax = plt.subplots()\n",
    "# slice a_arr [1:] for same reason as t_Gyr slice\n",
    "ax.plot(\n",
    "    t_lookback_Gyr, a_arr[1:], label=f\"($\\Omega_M,\\Omega_\\Lambda$)=({om:.2f},{ol:.2f})\"\n",
    ")\n",
    "ax.axvline(x=0, linestyle=\":\")  # Plot some crosshairs\n",
    "ax.axhline(y=1, linestyle=\":\")\n",
    "ax.set_xlabel(\"Lookback time (Gyr)\")\n",
    "ax.set_ylabel(\"Scalefactor\")\n",
    "ax.set_ylim([0, np.max(a_arr)])\n",
    "ax.legend(loc=\"lower right\", frameon=False)\n",
    "ax.grid()\n",
    "saveFigure(fig, \"fast_expansion\")\n"
   ]
  },
  {
   "cell_type": "markdown",
   "metadata": {},
   "source": [
    "## 3.2\n",
    "\n",
    "Now you can take that all and put it in a loop if you like, to compare different universes:"
   ]
  },
  {
   "cell_type": "code",
   "execution_count": null,
   "metadata": {},
   "outputs": [],
   "source": [
    "# Redefine here for convenience.\n",
    "astart = 0.1\n",
    "astop = 2.1\n",
    "astep = 0.0001  # Make this finer to make the plot smoother\n",
    "a_arr = np.arange(astart, astop, astep)\n"
   ]
  },
  {
   "cell_type": "code",
   "execution_count": null,
   "metadata": {},
   "outputs": [],
   "source": [
    "# for convenience\n",
    "def adotinv(a, om, ol) -> float:\n",
    "    \"\"\"Return reciprocal of da/dt given a, Omega_M, Omega_Lambda.\"\"\"\n",
    "    ok = 1 - om - ol\n",
    "    adot = a * sqrt(om * 1 / (a**3) + ok * 1 / (a**2) + ol)\n",
    "    return 1.0 / adot\n"
   ]
  },
  {
   "cell_type": "code",
   "execution_count": null,
   "metadata": {},
   "outputs": [],
   "source": [
    "om_arr = np.arange(0, 2, 0.5)\n",
    "ol_arr = np.arange(0, 2, 0.5)\n",
    "\n",
    "fig, ax = plt.subplots(figsize=(8, 6))  # default size is 6.4, 4.8\n",
    "\n",
    "for om in om_arr:\n",
    "    for ol in ol_arr:\n",
    "        t_today_Gyr, _ = integrate.quad(adotinv, 1, 1, args=(om, ol))\n",
    "        t_Gyr = np.array(\n",
    "            [integrate.quad(adotinv, 1, a_end, args=(om, ol))[0] for a_end in a_arr[1:]]\n",
    "        )\n",
    "        # slice [1:] to avoid division by zero error\n",
    "        t_lookback_Gyr = t_Gyr - t_today_Gyr\n",
    "        ax.plot(\n",
    "            t_lookback_Gyr,\n",
    "            a_arr[1:],\n",
    "            label=f\"($\\Omega_M,\\Omega_\\Lambda$)=({om:.2f},{ol:.2f})\",\n",
    "            alpha=0.7,\n",
    "        )\n",
    "\n",
    "ax.axvline(x=0, linestyle=\":\")  # Plot some crosshairs\n",
    "ax.axhline(y=1, linestyle=\":\")\n",
    "ax.set_xlabel(\"Lookback time (Gyr)\")\n",
    "ax.set_ylabel(\"Scalefactor\")\n",
    "ax.grid()\n",
    "ax.legend(frameon=False)\n",
    "saveFigure(fig, \"many_1\")\n"
   ]
  },
  {
   "cell_type": "code",
   "execution_count": null,
   "metadata": {},
   "outputs": [],
   "source": [
    "### Same as above code but with less lines\n",
    "om_arr = np.arange(0, 2.5, 1)\n",
    "ol_arr = np.arange(0, 2.5, 1)\n",
    "\n",
    "fig, ax = plt.subplots(figsize=(8, 6))  # default size is 6.4, 4.8\n",
    "\n",
    "for om in om_arr:\n",
    "    for ol in ol_arr:\n",
    "        t_today_Gyr, _ = integrate.quad(adotinv, 1, 1, args=(om, ol))\n",
    "        t_Gyr = np.array(\n",
    "            [integrate.quad(adotinv, 1, a_end, args=(om, ol))[0] for a_end in a_arr[1:]]\n",
    "        )\n",
    "        # slice [1:] to avoid division by zero error\n",
    "        t_lookback_Gyr = t_Gyr - t_today_Gyr\n",
    "        ax.plot(\n",
    "            t_lookback_Gyr,\n",
    "            a_arr[1:],\n",
    "            label=f\"($\\Omega_M,\\Omega_\\Lambda$)=({om:.2f},{ol:.2f})\",\n",
    "            alpha=0.7,\n",
    "        )\n",
    "\n",
    "ax.axvline(x=0, linestyle=\":\")  # Plot some crosshairs\n",
    "ax.axhline(y=1, linestyle=\":\")\n",
    "ax.set_xlabel(\"Lookback time (Gyr)\")\n",
    "ax.set_ylabel(\"Scalefactor\")\n",
    "ax.grid()\n",
    "ax.legend(frameon=False)\n",
    "saveFigure(fig, \"many_2\")\n"
   ]
  },
  {
   "cell_type": "markdown",
   "metadata": {},
   "source": [
    "## 3.3 \n",
    "\n",
    "Congratulations, you can now calculate how the expansion of the universe proceeds with time!\n",
    "\n",
    "From here you can play with the input parameters. What happens when you:\n",
    "- fix the cosmological constant and change matter density?\n",
    "- add radiation?\n",
    "- add dark energy with a different equation of state?\n",
    "\n",
    "You might find it useful to make a more general adotinv function that takes into account all these possibilities."
   ]
  },
  {
   "cell_type": "code",
   "execution_count": null,
   "metadata": {},
   "outputs": [],
   "source": [
    "def adotinv(a, om, ol, orad) -> float:\n",
    "    \"\"\"More general $1/\\dot{a}$ for including dark energy and radiation.\"\"\"\n",
    "    ok = 1 - om - ol - orad\n",
    "    adot = a * sqrt(orad / a**4 + om / a**3 + ok / a**2 + ol)\n",
    "    return 1.0 / adot\n"
   ]
  },
  {
   "cell_type": "markdown",
   "metadata": {},
   "source": [
    "# Misc Plots"
   ]
  },
  {
   "cell_type": "markdown",
   "metadata": {},
   "source": [
    "Here we plot redshift as a function of scalefactor and the inverse."
   ]
  },
  {
   "cell_type": "code",
   "execution_count": null,
   "metadata": {},
   "outputs": [],
   "source": [
    "a_arr = np.linspace(0, 1, 100)[1:]\n",
    "z_arr = 1 / a_arr - 1\n",
    "\n",
    "fig, ax = plt.subplots()\n",
    "ax.plot(a_arr, z_arr)\n",
    "ax.set_xlabel(\"$a$\")\n",
    "ax.set_ylabel(\"$z$\")\n",
    "ax.invert_yaxis()\n",
    "ax.grid()\n",
    "saveFigure(fig, \"redshift_of_scalefactor\")\n"
   ]
  },
  {
   "cell_type": "code",
   "execution_count": null,
   "metadata": {},
   "outputs": [],
   "source": [
    "z_arr = np.arange(0, 100, 1)\n",
    "a_arr = 1 / (1 + z_arr)\n",
    "\n",
    "fig, ax = plt.subplots()\n",
    "ax.plot(z_arr, a_arr)\n",
    "ax.set_xlabel(\"$z$\")\n",
    "ax.set_ylabel(\"$a$\")\n",
    "ax.invert_xaxis()\n",
    "ax.grid()\n",
    "saveFigure(fig, \"scalefactor_of_redshift\")\n"
   ]
  },
  {
   "cell_type": "code",
   "execution_count": null,
   "metadata": {},
   "outputs": [],
   "source": []
  }
 ],
 "metadata": {
  "interpreter": {
   "hash": "c6d99037cd18642863b33d47e2da00e17e4c9e862d4cf6cb7c9aa35a61141c58"
  },
  "kernelspec": {
   "display_name": "Python 3.10.2 64-bit",
   "language": "python",
   "name": "python3"
  },
  "language_info": {
   "codemirror_mode": {
    "name": "ipython",
    "version": 3
   },
   "file_extension": ".py",
   "mimetype": "text/x-python",
   "name": "python",
   "nbconvert_exporter": "python",
   "pygments_lexer": "ipython3",
   "version": "3.10.4"
  },
  "orig_nbformat": 4
 },
 "nbformat": 4,
 "nbformat_minor": 2
}
