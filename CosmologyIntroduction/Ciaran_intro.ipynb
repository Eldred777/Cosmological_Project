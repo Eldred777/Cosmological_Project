{
 "cells": [
  {
   "cell_type": "markdown",
   "metadata": {},
   "source": [
    "Lots of this code is copied from https://astrouq.github.io/PHYS3080_2022/notebooks/CosmoIntro/ originally written by Tamara Davis."
   ]
  },
  {
   "cell_type": "code",
   "execution_count": 137,
   "metadata": {},
   "outputs": [],
   "source": [
    "# First let's set up our packages\n",
    "import numpy as np\n",
    "from numpy import sqrt\n",
    "from matplotlib import pyplot as plt\n",
    "from scipy import integrate"
   ]
  },
  {
   "cell_type": "markdown",
   "metadata": {},
   "source": [
    "<h1>Section 1.</h1>"
   ]
  },
  {
   "cell_type": "code",
   "execution_count": 138,
   "metadata": {},
   "outputs": [
    {
     "name": "stdout",
     "output_type": "stream",
     "text": [
      "Hubble time =  13.976165695516954 Gyr\n",
      "Hubble time = 13.98 Gyr\n"
     ]
    }
   ],
   "source": [
    "c = 299792.458 # km/s (speed of light)\n",
    "\n",
    "H0kmsmpc = 70.  # Hubble constant in km/s/Mpc\n",
    "H0s = H0kmsmpc * 3.2408e-20 # H0 in inverse seconds is H0 in km/s/Mpc * (3.2408e-20 Mpc/km)\n",
    "H0y = H0s * 3.154e7 * 1.e9 # H0 in inverse Giga years is H0 in inverse seconds * (3.154e7 seconds/year) * (1e9 years / Giga year)\n",
    "print('Hubble time = ',1/H0y,'Gyr')\n",
    "\n",
    "# Let's format that to a more appropriate number of significant figures.  \n",
    "# The first % means put the variable here.  The .2f means make it a float with 2 decimal places.\n",
    "print('Hubble time = %.2f Gyr'%(1/H0y))"
   ]
  },
  {
   "cell_type": "markdown",
   "metadata": {},
   "source": [
    "We set here that\n",
    "$$\n",
    "    \\dot{a} = \\frac{1}{\\sqrt{a}}. \n",
    "$$"
   ]
  },
  {
   "cell_type": "code",
   "execution_count": 139,
   "metadata": {},
   "outputs": [
    {
     "name": "stdout",
     "output_type": "stream",
     "text": [
      "Age of the universe in Hubble times = 0.667 which is 9.32 Gyr\n",
      "Does this match the analytic prediction of 2/3 Hubble times?  Yes!\n",
      "\n",
      "Uncertainty on the numerical integral is  7.401486830834379e-16 so should be negligible.\n",
      "Just checking that the one-step age calculation (9.32 Gyr) matches the two step one (9.32 Gyr).\n"
     ]
    }
   ],
   "source": [
    "# keep the constant H_0 outside the integral and add it later\n",
    "def adotinv_flatmatter(a):\n",
    "    return np.sqrt(a) \n",
    "\n",
    "# Now integrate that equation from scalefactor 0 to 1 (as an example) which will give the age of the universe today (because we define a so that a=1 today):\n",
    "age_Hubble, uncert = integrate.quad(adotinv_flatmatter,0,1) \n",
    "# This returns age in Hubble times, and the uncertainty in the numerical integral\n",
    "\n",
    "# Convert that to billions of years\n",
    "age_Gyr = age_Hubble/H0y # Age in Gyr\n",
    "\n",
    "print('Age of the universe in Hubble times = %.3f which is %.2f Gyr'%(age_Hubble,age_Gyr))\n",
    "print('Does this match the analytic prediction of 2/3 Hubble times?  Yes!')\n",
    "print('')\n",
    "print('Uncertainty on the numerical integral is ', uncert, 'so should be negligible.') # It's good to check this to check that the integral has succeeded.\n",
    "\n",
    "# Note, to get just the age without the uncertainty you can use [0] to get the first element that's returned,\n",
    "# and then you can also divide by H0y immediately to get the age in one step\n",
    "age_Gyr_easier = integrate.quad(adotinv_flatmatter,0,1)[0] / H0y \n",
    "\n",
    "print('Just checking that the one-step age calculation (%.2f Gyr) matches the two step one (%.2f Gyr).'%(age_Gyr_easier,age_Gyr))\n",
    "\n"
   ]
  },
  {
   "cell_type": "code",
   "execution_count": 140,
   "metadata": {},
   "outputs": [
    {
     "name": "stdout",
     "output_type": "stream",
     "text": [
      "age_half_Gyr=0.24 /H0 (natural units), integral uncertainty 2.616820764472957e-16\n",
      "age_double_Gyr=1.22 /H0, integral uncertainty 1.3533079284949289e-14\n"
     ]
    }
   ],
   "source": [
    "age_half_H0, half_uncert = integrate.quad(adotinv_flatmatter,0,0.5)\n",
    "age_double_H0, double_uncert = integrate.quad(adotinv_flatmatter,1,2)\n",
    "\n",
    "# Remember to write print statements to see the answers. \n",
    "print(f\"{age_half_H0=:.2f} /H0 (natural units), integral uncertainty {half_uncert}\")\n",
    "print(f\"{age_double_H0=:.2f} /H0, integral uncertainty {double_uncert}\")\n"
   ]
  },
  {
   "cell_type": "markdown",
   "metadata": {},
   "source": [
    "<h1>Section 2. Scalefactor vs time</h1>"
   ]
  },
  {
   "cell_type": "code",
   "execution_count": 141,
   "metadata": {},
   "outputs": [
    {
     "name": "stdout",
     "output_type": "stream",
     "text": [
      "a_arr=array([0. , 0.1, 0.2, 0.3, 0.4, 0.5, 0.6, 0.7, 0.8, 0.9, 1. , 1.1, 1.2,\n",
      "       1.3, 1.4, 1.5, 1.6, 1.7, 1.8, 1.9, 2. ])\n"
     ]
    }
   ],
   "source": [
    "# Start by making an array of scalefactors\n",
    "astart = 0.0\n",
    "astop = 2.1\n",
    "astep = 0.1 # Make this finer to make the plot smoother\n",
    "a_arr = np.arange(astart,astop,astep)\n",
    "print(f'{a_arr=}')"
   ]
  },
  {
   "cell_type": "markdown",
   "metadata": {},
   "source": [
    "Analytic equation in question,\n",
    "$$\n",
    "    t_\\alpha = \\int_0^\\alpha \\frac{da}{\\dot{a}}.\n",
    "$$\n",
    "Set \n",
    "$$\n",
    "    \\dot{a} = \\frac{1}{\\sqrt{a}}. \n",
    "$$\n",
    "Then this integral has solution \n",
    "$$\n",
    "    t_\\alpha = \\frac{2 (\\alpha)^{3/2}}{3}. \n",
    "$$"
   ]
  },
  {
   "cell_type": "code",
   "execution_count": 142,
   "metadata": {},
   "outputs": [
    {
     "data": {
      "image/png": "[encoded data removed]",
      "text/plain": [
       "<Figure size 432x288 with 1 Axes>"
      ]
     },
     "metadata": {
      "needs_background": "light"
     },
     "output_type": "display_data"
    }
   ],
   "source": [
    "# First set up an array of times (initially all set to zero) into which we'll put our calculated times\n",
    "t_Gyr = np.zeros(len(a_arr))  # len(a_arr) gives the length of the a_arr \n",
    "\n",
    "# Make a loop and do that integral for every final value of a (starting at a=0 every time)\n",
    "for i,a_end in enumerate(a_arr): # enumerate adds an index to each value\n",
    "    t_Hubble,uncert = integrate.quad(adotinv_flatmatter,0,a_end)\n",
    "    t_Gyr[i] = t_Hubble/H0y\n",
    "\n",
    "# It's good practise to compare it to the analytic calculation when available\n",
    "t_analytic_fn = lambda x: 2*x*sqrt(x)/3\n",
    "t_analytic_Gyr = t_analytic_fn(a_arr)/H0y \n",
    "\n",
    "fig, ax = plt.subplots()\n",
    "ax.plot(t_Gyr,a_arr)\n",
    "ax.plot(age_Gyr, 1.0,'o') # Put a dot at the current time\n",
    "ax.plot(t_analytic_Gyr, a_arr,':',color='red')\n",
    "ax.set_xlabel('Time (Gyr)')\n",
    "ax.set_ylabel('Scalefactor')\n",
    "ax.grid()"
   ]
  },
  {
   "cell_type": "code",
   "execution_count": 143,
   "metadata": {},
   "outputs": [
    {
     "data": {
      "text/plain": [
       "<matplotlib.legend.Legend at 0x1dc3fb04250>"
      ]
     },
     "execution_count": 143,
     "metadata": {},
     "output_type": "execute_result"
    },
    {
     "data": {
      "image/png": "[encoded data removed]",
      "text/plain": [
       "<Figure size 432x288 with 1 Axes>"
      ]
     },
     "metadata": {
      "needs_background": "light"
     },
     "output_type": "display_data"
    }
   ],
   "source": [
    "# You might be interested to know that python has some shortcuts.  The whole step above (except the plotting) can be done in one line:\n",
    "t2_Gyr = np.array([integrate.quad(adotinv_flatmatter, 0, a_end)[0] for a_end in a_arr])/H0y\n",
    "\n",
    "fig, ax = plt.subplots()\n",
    "ax.plot(t_Gyr,a_arr,label='longhand') # Plot original from above\n",
    "ax.plot(t2_Gyr,a_arr,'--',color='black',label='shortcut') # Plot new one-line calculation to show it is the same\n",
    "ax.plot(t_analytic_Gyr, a_arr,':',color='red',label='analytic')\n",
    "ax.plot(age_Gyr, 1.0,'o',label='today') # Put a dot at the current time\n",
    "ax.set_xlabel('Time (Gyr)')\n",
    "ax.set_ylabel('Scalefactor')\n",
    "ax.grid()\n",
    "ax.legend(frameon=False)"
   ]
  },
  {
   "cell_type": "markdown",
   "metadata": {},
   "source": [
    "<h2>2.1 Lookback time - for you</h2>\n",
    "It can be useful to normalise time to be 0 at the present day, then everything in the past is a negative time relative to today. You can do that by setting the lower limit of the integral to a=1.0, then all times are measured relative to the present time."
   ]
  },
  {
   "cell_type": "code",
   "execution_count": 144,
   "metadata": {},
   "outputs": [
    {
     "data": {
      "image/png": "[encoded data removed]",
      "text/plain": [
       "<Figure size 432x288 with 1 Axes>"
      ]
     },
     "metadata": {
      "needs_background": "light"
     },
     "output_type": "display_data"
    }
   ],
   "source": [
    "t_lookback_Gyr = t_analytic_Gyr - age_Gyr\n",
    "\n",
    "plt.plot(t_lookback_Gyr,a_arr) \n",
    "plt.axvline(x=0,linestyle=':') # Plot some crosshairs \n",
    "plt.axhline(y=1,linestyle=':')\n",
    "plt.plot(0.0, 1.0,'o') # Put a dot at the current time\n",
    "plt.xlabel('Lookback time (Gyr)')\n",
    "plt.ylabel('Scalefactor')\n",
    "plt.show()"
   ]
  },
  {
   "cell_type": "markdown",
   "metadata": {},
   "source": [
    "<h2>2.2 Another way to calculate lookback time</h2>\n",
    "If you don't want to do the integral again (integrals can be computationally expensive) you can find the time closest to the present day by finding the index closest to a=1.0, and subtracting that time from all the times in the array. Give that a go..."
   ]
  },
  {
   "cell_type": "code",
   "execution_count": 145,
   "metadata": {},
   "outputs": [
    {
     "name": "stdout",
     "output_type": "stream",
     "text": [
      "age_today_Gyr=9.317443797011302\n"
     ]
    },
    {
     "data": {
      "text/plain": [
       "Text(0, 0.5, 'Scalefactor')"
      ]
     },
     "execution_count": 145,
     "metadata": {},
     "output_type": "execute_result"
    },
    {
     "data": {
      "image/png": "[encoded data removed]",
      "text/plain": [
       "<Figure size 432x288 with 1 Axes>"
      ]
     },
     "metadata": {
      "needs_background": "light"
     },
     "output_type": "display_data"
    }
   ],
   "source": [
    "# First calculate the index corresponding to a=1.0.  (Find when |a-1.0| is minimum.  You could also do this by just redoing the integral from 0<a<1, but the way I've set it up above we know we have an a=1 in the array, so we can just find what we've already calculated.)\n",
    "index_today = np.argmin(np.abs(a_arr - 1.0))\n",
    "\n",
    "# Then find the time corresponding to that index  (note you do NOT have to do the integral again)\n",
    "age_today_Gyr = t_analytic_Gyr[index_today]\n",
    "print(f\"{age_today_Gyr=}\")\n",
    "\n",
    "t2_lookback_Gyr = t_analytic_Gyr - age_today_Gyr\n",
    "\n",
    "fig, ax = plt.subplots()\n",
    "ax.plot(t2_lookback_Gyr,a_arr) \n",
    "ax.axvline(x=0,linestyle=':') # Plot some crosshairs \n",
    "ax.axhline(y=1,linestyle=':')\n",
    "ax.plot(0.0, 1.0,'o') # Put a dot at the current time\n",
    "ax.set_xlabel('Lookback time (Gyr)')\n",
    "ax.set_ylabel('Scalefactor')"
   ]
  },
  {
   "cell_type": "markdown",
   "metadata": {},
   "source": [
    "<h1>Section 3. More complex models</h1> "
   ]
  },
  {
   "cell_type": "markdown",
   "metadata": {},
   "source": [
    "In general Friedmann's equation gives,\n",
    "$$\n",
    "    H(a)^2 = \\frac{\\dot a^2}{a^2} = H_0^2 \\sum_i \\Omega_i a^{-3(1+w_i)}\n",
    "$$\n",
    "where the $\\Omega_i$ correspond to different components of the universe (like matter) and $w_i$ are the corresponding equations of state.\n",
    "\n",
    "Writing that out more fully we should consider matter density ΩM\n",
    "(includes normal and dark matter and $w_M=0$); curvature $\\Omega_K=1.0− \\Omega_M−\\Omega_\\Lambda$ ($w_K=−1/3$); and cosmological constant $\\Omega_\\Lambda$ ($w_\\Lambda =−1$).\n",
    "\n",
    "Later we'll consider a more general dark energy $\\Omega_x$\n",
    "($w_x=$ unknown), and also add radiation density $\\Omega_R$ ($w_R=1/3$).\n",
    "\n",
    "Expanding the sum above for a universe with matter and a cosmological constant we get, \n",
    "$$\n",
    "    \\frac{\\dot a}{a} = H_0 \\left[ \\Omega_M a^{-3} + \\Omega_K a^{-2} + \\Omega_\\Lambda \\right]^{1/2}\n",
    "$$\n",
    "\n",
    "Now let's integrate this more complex function."
   ]
  },
  {
   "cell_type": "code",
   "execution_count": 146,
   "metadata": {},
   "outputs": [],
   "source": [
    "# First write a function that takes as input a, Omega_M (om), and Omega_Lambda (ol) and outputs 1/adot\n",
    "def adotinv(a,om,ol) -> float:\n",
    "    \"\"\"Return reciprocal of da/dt given a, Omega_M, Omega_Lambda.\"\"\"\n",
    "    ok = 1 - om\n",
    "    adot = a * sqrt(om * 1/(a**3) + ok * 1/(a**2) + ol)\n",
    "    return 1.0/adot"
   ]
  },
  {
   "cell_type": "code",
   "execution_count": 147,
   "metadata": {},
   "outputs": [
    {
     "data": {
      "text/plain": [
       "<matplotlib.legend.Legend at 0x1dc3fcad1e0>"
      ]
     },
     "execution_count": 147,
     "metadata": {},
     "output_type": "execute_result"
    },
    {
     "data": {
      "image/png": "[encoded data removed]",
      "text/plain": [
       "<Figure size 432x288 with 1 Axes>"
      ]
     },
     "metadata": {
      "needs_background": "light"
     },
     "output_type": "display_data"
    }
   ],
   "source": [
    "# Calculate for the universe we think we live in, with approximately matter density 0.3 and cosmological constant 0.7\n",
    "om = 0.3\n",
    "ol = 0.7\n",
    "\n",
    "# Note that when you integrate something with more than one argument you pass it with args=(arg1,arg2) in the integrate function\n",
    "# e.g. \"integrate.quad(adotinv, lower_limit, uper_limit, args=(om,ol))\"\"\n",
    "t_today_Gyr, _ = integrate.quad(adotinv, 0, 1, args=(om,ol))\n",
    "t_Gyr = np.array([integrate.quad(adotinv, 0, a_end, args=(om,ol))[0] for a_end in a_arr[1:]])\n",
    "# slice [1:] to avoid division by zero error \n",
    "t_lookback_Gyr = t_Gyr - t_today_Gyr\n",
    "\n",
    "# Plot this new model\n",
    "fig, ax = plt.subplots()\n",
    "# slice a_arr [1:] for same reason as t_Gyr slice\n",
    "ax.plot(t_lookback_Gyr,a_arr[1:],label=f'($\\Omega_M,\\Omega_\\Lambda$)=({om:.2f},{ol:.2f}')\n",
    "ax.axvline(x=0,linestyle=':') # Plot some crosshairs \n",
    "ax.axhline(y=1,linestyle=':')\n",
    "ax.set_xlabel('Lookback time (Gyr)')\n",
    "ax.set_ylabel('Scalefactor')\n",
    "ax.legend(loc='lower right',frameon=False)"
   ]
  },
  {
   "cell_type": "markdown",
   "metadata": {},
   "source": [
    "<h2>3.1 Your turn! Build your own universes!</h2>\n",
    "\n",
    "\n",
    "Change the input matter density and cosmological constant:\n",
    "- Can you make a universe that recollapses?\n",
    "- What about one that has a bounce instead of a Big Bang in the past?\n",
    "- What about one that always decelerates but never recollapses?\n",
    "- Can you find any really weird behaviour? If so can you explain it?"
   ]
  },
  {
   "cell_type": "code",
   "execution_count": 148,
   "metadata": {},
   "outputs": [],
   "source": [
    "pass"
   ]
  },
  {
   "cell_type": "markdown",
   "metadata": {},
   "source": [
    "<h2>3.2</h2>\n",
    "\n",
    "Now you can take that all and put it in a loop if you like, to compare different universes:"
   ]
  },
  {
   "cell_type": "code",
   "execution_count": 151,
   "metadata": {},
   "outputs": [],
   "source": [
    "om_arr = np.arange(0.1,2.1,0.4)\n",
    "ol = 0.7\n",
    "\n",
    "for om in om_arr:\n",
    "    t_lookback_Gyr = 'Your code here'\n",
    "    plt.plot(t_lookback_Gyr,a_arr,label='(ΩM,ΩΛ)(ΩM,ΩΛ)(\\Omega_M,\\Omega_\\Lambda)=(%.1f,%.1f)'%(om,ol))\n",
    "    \n",
    "#plt.axvline(x=0,linestyle=':') # Plot some crosshairs \n",
    "#plt.axhline(y=1,linestyle=':')\n",
    "#plt.xlabel('Lookback time (Gyr)')\n",
    "#plt.ylabel('Scalefactor')\n",
    "#plt.legend(loc='lower right',frameon=False)\n",
    "#plt.show()"
   ]
  },
  {
   "cell_type": "markdown",
   "metadata": {},
   "source": [
    "<h2>3.3</h2>\n",
    "\n",
    "Congratulations, you can now calculate how the expansion of the universe proceeds with time!\n",
    "\n",
    "From here you can play with the input parameters. What happens when you:\n",
    "- fix the cosmological constant and change matter density?\n",
    "- add radiation?\n",
    "- add dark energy with a different equation of state?\n",
    "\n",
    "You might find it useful to make a more general adotinv function that takes into account all these possibilities."
   ]
  },
  {
   "cell_type": "code",
   "execution_count": 150,
   "metadata": {},
   "outputs": [],
   "source": [
    "pass"
   ]
  }
 ],
 "metadata": {
  "interpreter": {
   "hash": "dd7df93e66b8163fb365d3de903e79e379212d6cc1bc6a8c9fba9bd612f2f804"
  },
  "kernelspec": {
   "display_name": "Python 3.10.2 64-bit",
   "language": "python",
   "name": "python3"
  },
  "language_info": {
   "codemirror_mode": {
    "name": "ipython",
    "version": 3
   },
   "file_extension": ".py",
   "mimetype": "text/x-python",
   "name": "python",
   "nbconvert_exporter": "python",
   "pygments_lexer": "ipython3",
   "version": "3.10.2"
  },
  "orig_nbformat": 4
 },
 "nbformat": 4,
 "nbformat_minor": 2
}
