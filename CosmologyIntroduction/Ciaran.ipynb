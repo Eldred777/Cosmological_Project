{
 "cells": [
  {
   "cell_type": "code",
   "execution_count": 4,
   "metadata": {},
   "outputs": [
    {
     "name": "stdout",
     "output_type": "stream",
     "text": [
      "Hubble time =  13.976165695516954 Gyr\n",
      "Hubble time = 13.98 Gyr\n"
     ]
    }
   ],
   "source": [
    "# First let's set up our packages\n",
    "import numpy as np\n",
    "from matplotlib import pyplot as plt\n",
    "from scipy import integrate\n",
    "\n",
    "# And set some constants\n",
    "c = 299792.458 # km/s (speed of light)\n",
    "\n",
    "H0kmsmpc = 70.  # Hubble constant in km/s/Mpc\n",
    "H0s = H0kmsmpc * 3.2408e-20 # H0 in inverse seconds is H0 in km/s/Mpc * (3.2408e-20 Mpc/km)\n",
    "H0y = H0s * 3.154e7 * 1.e9 # H0 in inverse Giga years is H0 in inverse seconds * (3.154e7 seconds/year) * (1e9 years / Giga year)\n",
    "print('Hubble time = ',1/H0y,'Gyr')\n",
    "\n",
    "# Let's format that to a more appropriate number of significant figures.  \n",
    "# The first % means put the variable here.  The .2f means make it a float with 2 decimal places.\n",
    "print('Hubble time = %.2f Gyr'%(1/H0y))"
   ]
  },
  {
   "cell_type": "code",
   "execution_count": 5,
   "metadata": {},
   "outputs": [
    {
     "name": "stdout",
     "output_type": "stream",
     "text": [
      "Age of the universe in Hubble times = 0.667 which is 9.32 Gyr\n",
      "Does this match the analytic prediction of 2/3 Hubble times?  Yes!\n",
      "\n",
      "Uncertainty on the numerical integral is  7.401486830834379e-16 so should be negligible.\n",
      "Just checking that the one-step age calculation (9.32 Gyr) matches the two step one (9.32 Gyr).\n"
     ]
    }
   ],
   "source": [
    "# Write a function for the integrand, i.e. 1/˙a1/a˙1/\\dot{a} (adot inverse)\n",
    "# I'm going to keep the constant H_0 outside the integral and add it later.\n",
    "def adotinv_flatmatter(a):\n",
    "    return np.sqrt(a) \n",
    "\n",
    "# First note some weird python notation, if you say \"x, y = 1, 2\" it's the same as saying \"x=1\" and \"y=2\".\n",
    "\n",
    "# Now integrate that equation from scalefactor 0 to 1 (as an example) which will give the age of the universe today (because we define a so that a=1 today):\n",
    "age_Hubble, uncert = integrate.quad(adotinv_flatmatter,0,1) \n",
    "# This returns age in Hubble times, and the uncertainty in the numerical integral\n",
    "\n",
    "# Convert that to billions of years\n",
    "age_Gyr = age_Hubble/H0y # Age in Gyr\n",
    "\n",
    "print('Age of the universe in Hubble times = %.3f which is %.2f Gyr'%(age_Hubble,age_Gyr))\n",
    "print('Does this match the analytic prediction of 2/3 Hubble times?  Yes!')\n",
    "print('')\n",
    "print('Uncertainty on the numerical integral is ', uncert, 'so should be negligible.') # It's good to check this to check that the integral has succeeded.\n",
    "\n",
    "# Note, to get just the age without the uncertainty you can use [0] to get the first element that's returned,\n",
    "# and then you can also divide by H0y immediately to get the age in one step\n",
    "age_Gyr_easier = integrate.quad(adotinv_flatmatter,0,1)[0] / H0y \n",
    "\n",
    "print('Just checking that the one-step age calculation (%.2f Gyr) matches the two step one (%.2f Gyr).'%(age_Gyr_easier,age_Gyr))\n",
    "\n"
   ]
  },
  {
   "cell_type": "code",
   "execution_count": 6,
   "metadata": {},
   "outputs": [
    {
     "name": "stdout",
     "output_type": "stream",
     "text": [
      "age_half_Gyr=0.43096440627115085\n",
      "age_double_Gyr=1.21895141649746\n"
     ]
    }
   ],
   "source": [
    "# Insert your code here\n",
    "age_half_Gyr, _ = integrate.quad(adotinv_flatmatter,0.5,1) \n",
    "age_double_Gyr, _ = integrate.quad(adotinv_flatmatter,1,2) \n",
    "\n",
    "# Remember to write print statements to see the answers. \n",
    "print(f\"{age_half_Gyr=} Gyr\")\n",
    "print(f\"{age_double_Gyr=} Gyr\")\n",
    "\n"
   ]
  }
 ],
 "metadata": {
  "interpreter": {
   "hash": "dd7df93e66b8163fb365d3de903e79e379212d6cc1bc6a8c9fba9bd612f2f804"
  },
  "kernelspec": {
   "display_name": "Python 3.10.2 64-bit",
   "language": "python",
   "name": "python3"
  },
  "language_info": {
   "codemirror_mode": {
    "name": "ipython",
    "version": 3
   },
   "file_extension": ".py",
   "mimetype": "text/x-python",
   "name": "python",
   "nbconvert_exporter": "python",
   "pygments_lexer": "ipython3",
   "version": "3.10.2"
  },
  "orig_nbformat": 4
 },
 "nbformat": 4,
 "nbformat_minor": 2
}
