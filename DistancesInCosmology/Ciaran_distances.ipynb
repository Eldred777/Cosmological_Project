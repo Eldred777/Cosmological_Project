{
 "cells": [
  {
   "cell_type": "markdown",
   "metadata": {},
   "source": [
    "# Distances in cosmology\n",
    "\n",
    "This notebook will step you through calculating distances in cosmology. \n"
   ]
  },
  {
   "cell_type": "code",
   "execution_count": 36,
   "metadata": {},
   "outputs": [
    {
     "name": "stdout",
     "output_type": "stream",
     "text": [
      "c:\\University\\PHYS3080\\Project_Cosmological-Project\n"
     ]
    }
   ],
   "source": [
    "# get current dir\n",
    "import os  \n",
    "cd = os.path.dirname(os.path.abspath('./'))\n",
    "print(cd)  # check correct path"
   ]
  },
  {
   "cell_type": "code",
   "execution_count": 37,
   "metadata": {},
   "outputs": [],
   "source": [
    "def saveFigure(fig, filename):\n",
    "    # handy function\n",
    "    fig.savefig(\n",
    "        f\"{cd}/DistancesInCosmology/plots/{filename}.png\",\n",
    "        transparent=False,\n",
    "        facecolor=\"w\",\n",
    "    )\n",
    "    fig.savefig(\n",
    "        f\"{cd}/DistancesInCosmology/plots/{filename}.pdf\",\n",
    "        transparent=False,\n",
    "        facecolor=\"w\",\n",
    "    )\n"
   ]
  },
  {
   "cell_type": "markdown",
   "metadata": {},
   "source": [
    "## 1. How far is a galaxy at redshift z?\n",
    "\n",
    "To calculate how far a galaxy is if it has redshift z we need to integrate over the path of the photon since the time of emission to the time of observation. \n",
    "\n",
    "Again we can start with Friedmann's equation,\n",
    "\n",
    "$$ H^2 = H_0^2\\sum \\Omega_x a^{-3(1+w_x)}, $$\n",
    "\n",
    "and recall that the definition of redshift is that a=(1+z)^{-1}, therefore,\n",
    "\n",
    "$$ H^2 = H_0^2\\sum \\Omega_x (1+z)^{3(1+w_x)}, $$\n",
    "\n",
    "(notice the change of sign in the exponent).\n",
    "\n",
    "Since $ds=0$ for a photon the metric gives $cdt = Rd\\chi$.  Using $R=R_0a$ that can be rearranged to the equation for the comoving distance,\n",
    "\n",
    "$$ R_0\\chi = c\\int \\frac{dt}{a} = c\\int \\frac{dt}{da} \\frac{da}{a} = c\\int \\frac{da}{\\dot{a}a} $$\n",
    "\n",
    "Differentiating $a$ with respect to $z$ gives $da = -(1+z)^{-2} dz$, and putting all of that together gives the equation for comoving distance as a function of redshift,\n",
    "\n",
    "$$ R_0\\chi = c\\int_0^z \\frac{dz}{H(z)}\n",
    "= \\frac{c}{H_0}\\int_0^z \\frac{dz}{E(z)}$$\n",
    "where $E(z)\\equiv H(z)/H_0$.  Written out longhand that is \n",
    "$$ E(z)= \\left(\\Omega_R (1+z)^4+\\Omega_M (1+z)^3+\\Omega_K (1+z)^2+\\Omega_\\Lambda\\right)^{1/2}. $$\n",
    "(Or some more complex model!) \n"
   ]
  },
  {
   "cell_type": "code",
   "execution_count": 38,
   "metadata": {},
   "outputs": [],
   "source": [
    "import numpy as np\n",
    "from matplotlib import pyplot as plt\n",
    "from scipy import integrate\n"
   ]
  },
  {
   "cell_type": "code",
   "execution_count": 39,
   "metadata": {},
   "outputs": [],
   "source": [
    "c = 299792.458  # km/s (speed of light)\n",
    "\n",
    "H0kmsmpc = 70.0  # Hubble constant in km/s/Mpc\n",
    "cH0mpc = (\n",
    "    c / H0kmsmpc\n",
    ")  # c/H0 in Mpc  (the km/s cancel out in the numerator and denominator)\n",
    "cH0Glyr = (\n",
    "    cH0mpc * 3.262 / 1000\n",
    ")  # c/H0 in billions of light years.  There are 3.262 light year / parsec\n"
   ]
  },
  {
   "cell_type": "markdown",
   "metadata": {},
   "source": [
    "### 1.1 Write some code to calculate the distance to a galaxy at redshift z\n",
    "\n",
    "Define the function you need to integrate, and integrate it for a single value of z that you choose. "
   ]
  },
  {
   "cell_type": "code",
   "execution_count": 40,
   "metadata": {},
   "outputs": [],
   "source": [
    "# Write a function for the integrand, i.e. $1/E(z)$,\n",
    "def Ez(z, om_r, om_m, om_l):\n",
    "    om_k = 1 - om_r - om_m - om_l\n",
    "    return np.sqrt(\n",
    "        om_r * (1 + z) ** 4 + om_m * (1 + z) ** 3 + om_k * (1 + z) ** 2 + om_l\n",
    "    )\n",
    "\n",
    "\n",
    "def integrand(z, om_r, om_m, om_l):\n",
    "    return 1 / Ez(z, om_r, om_m, om_l)\n"
   ]
  },
  {
   "cell_type": "code",
   "execution_count": 41,
   "metadata": {},
   "outputs": [],
   "source": [
    "# for our universe\n",
    "ourInt = lambda z: integrand(z, 0, 0.3, 0.7)  "
   ]
  },
  {
   "cell_type": "code",
   "execution_count": 42,
   "metadata": {},
   "outputs": [
    {
     "name": "stdout",
     "output_type": "stream",
     "text": [
      "Comoving distance to a galaxy at z=0.300 is 3.90 Glyr\n"
     ]
    }
   ],
   "source": [
    "# Choose the redshift (e.g. z=0.3)\n",
    "z = 0.3\n",
    "\n",
    "# Calculate the integral:\n",
    "xx = integrate.quad(ourInt, 0, z)[0]  # comoving coordinate\n",
    "\n",
    "# Sub in the required constants to get the comoving distance R_0*X\n",
    "R0X = xx * cH0Glyr  # Distance in Glyr\n",
    "\n",
    "print(f\"Comoving distance to a galaxy at z={z:.3f} is {R0X:.2f} Glyr\")\n"
   ]
  },
  {
   "cell_type": "code",
   "execution_count": 43,
   "metadata": {},
   "outputs": [
    {
     "data": {
      "text/plain": [
       "13.9703285428"
      ]
     },
     "execution_count": 43,
     "metadata": {},
     "output_type": "execute_result"
    }
   ],
   "source": [
    "cH0Glyr"
   ]
  },
  {
   "cell_type": "markdown",
   "metadata": {},
   "source": [
    "### 1.2 How far is that galaxy at different times?\n",
    "The comoving distance is normalised such that it is the distance at the present day.  How far was that galaxy (the one we currently observe at redshift z) at different times? To get the distance at a different time, just multiply the comoving distance by the scalefactor at that time. \n",
    "$$ D(t(z),\\chi(z)) = a(t) R_0\\chi(z) = a(t) D_0(t_0,z) $$\n",
    "\n",
    "Example: take a galaxy at $z=0.3$.  \n",
    "* What was its distance from us when the universe was half its current size?\n",
    "* How far was it at the time the light we're seeing was emitted?  Recall that the scalefactor at the time of emission can be derived from its redshift, i.e. $a=1/(1+z)$."
   ]
  },
  {
   "cell_type": "code",
   "execution_count": 44,
   "metadata": {},
   "outputs": [
    {
     "name": "stdout",
     "output_type": "stream",
     "text": [
      "Distance to a galaxy at z=0.300 when a=0.5 is 1.95 Glyr\n",
      "Distance to a galaxy at z=0.300 when the light we see was emitted is 3.00 Glyr\n"
     ]
    }
   ],
   "source": [
    "# Insert your code here\n",
    "# using \\chi as computed in prior cell\n",
    "distance_half_size = 1 / 2 * R0X  # scalefactor 1/2\n",
    "distance_at_emission = 1 / (1 + z) * R0X\n",
    "\n",
    "# Remember to write print statements to see the answers.\n",
    "print(f\"Distance to a galaxy at z={z:.3f} when a=0.5 is {distance_half_size:.2f} Glyr\")\n",
    "print(\n",
    "    f\"Distance to a galaxy at z={z:.3f} when the light we see was emitted is {distance_at_emission:.2f} Glyr\"\n",
    ")\n"
   ]
  },
  {
   "cell_type": "markdown",
   "metadata": {},
   "source": [
    "### 1.3 Turn that into a plot of distance vs redshift\n",
    "\n",
    "Make an array of redshifts and make a loop to calculate the distance at each of those redshifts.  Then plot distance vs redshift. \n",
    "\n",
    "* Make one plot that is current distance ($R_0\\chi$) vs redshift.\n",
    "* Make another showing distance at the time of emission ($aR_0\\chi$) vs redshift. \n",
    "\n",
    "Do you notice anything interesting about the behaviour of these two different distances?"
   ]
  },
  {
   "cell_type": "code",
   "execution_count": 45,
   "metadata": {},
   "outputs": [
    {
     "name": "stdout",
     "output_type": "stream",
     "text": [
      "z_arr=array([0. , 0.1, 0.2, 0.3, 0.4, 0.5, 0.6, 0.7, 0.8, 0.9, 1. , 1.1, 1.2,\n",
      "       1.3, 1.4, 1.5, 1.6, 1.7, 1.8, 1.9, 2. , 2.1, 2.2, 2.3, 2.4, 2.5,\n",
      "       2.6, 2.7, 2.8, 2.9, 3. , 3.1, 3.2, 3.3, 3.4, 3.5, 3.6, 3.7, 3.8,\n",
      "       3.9, 4. ])\n"
     ]
    },
    {
     "data": {
      "image/png": "[encoded data removed]",
      "text/plain": [
       "<Figure size 432x288 with 1 Axes>"
      ]
     },
     "metadata": {
      "needs_background": "light"
     },
     "output_type": "display_data"
    }
   ],
   "source": [
    "# Start by making an array of redshifts\n",
    "zstart = 0.0\n",
    "zstop = 4.1\n",
    "zstep = 0.1  # Make this finer to make the plot smoother\n",
    "z_arr = np.arange(zstart, zstop, zstep)\n",
    "print(f\"{z_arr=}\")\n",
    "\n",
    "# Now add your code to calculate distance vs redshift and then plot it.\n",
    "# Copy what was done in the scalefactor vs time plots from the previous workbook, and adapt it to your need here.\n",
    "\n",
    "# z = 0.3 distance\n",
    "# copied for consistency!\n",
    "z = 0.3\n",
    "xx = np.array([integrate.quad(ourInt, 0, z, args=())[0] for z in z_arr])\n",
    "R0X = xx * cH0Glyr\n",
    "\n",
    "distances = R0X\n",
    "\n",
    "fig, ax = plt.subplots()\n",
    "ax.plot(z_arr, distances)\n",
    "ax.grid()\n",
    "ax.set_xlabel(\"Redshift\")\n",
    "ax.set_ylabel(\"$R_0 \\chi$ (Glyr)\")\n",
    "saveFigure(fig, \"comov_dist_vs_redshift\")\n"
   ]
  },
  {
   "cell_type": "markdown",
   "metadata": {},
   "source": [
    "Note: in the above, $\\Omega_m = 0.3$, $\\Omega_\\Lambda = 0.7$. "
   ]
  },
  {
   "cell_type": "code",
   "execution_count": 46,
   "metadata": {},
   "outputs": [
    {
     "name": "stdout",
     "output_type": "stream",
     "text": [
      "z_arr=array([0. , 0.1, 0.2, 0.3, 0.4, 0.5, 0.6, 0.7, 0.8, 0.9, 1. , 1.1, 1.2,\n",
      "       1.3, 1.4, 1.5, 1.6, 1.7, 1.8, 1.9, 2. , 2.1, 2.2, 2.3, 2.4, 2.5,\n",
      "       2.6, 2.7, 2.8, 2.9, 3. , 3.1, 3.2, 3.3, 3.4, 3.5, 3.6, 3.7, 3.8,\n",
      "       3.9, 4. ])\n"
     ]
    },
    {
     "data": {
      "image/png": "[encoded data removed]",
      "text/plain": [
       "<Figure size 432x288 with 1 Axes>"
      ]
     },
     "metadata": {
      "needs_background": "light"
     },
     "output_type": "display_data"
    }
   ],
   "source": [
    "# Start by making an array of redshifts\n",
    "zstart = 0.0\n",
    "zstop = 4.1\n",
    "zstep = 0.1  # Make this finer to make the plot smoother\n",
    "z_arr = np.arange(zstart, zstop, zstep)\n",
    "print(f\"{z_arr=}\")\n",
    "\n",
    "# Now add your code to calculate distance vs redshift and then plot it.\n",
    "# Copy what was done in the scalefactor vs time plots from the previous workbook, and adapt it to your need here.\n",
    "\n",
    "# z = 0.3 distance\n",
    "# copied for consistency!\n",
    "z = 0.3\n",
    "xx = np.array([integrate.quad(ourInt, 0, z)[0] for z in z_arr])\n",
    "R0X = xx * cH0Glyr\n",
    "\n",
    "distances = 1 / (1 + z_arr) * R0X\n",
    "\n",
    "fig, ax = plt.subplots()\n",
    "ax.plot(z_arr, distances)\n",
    "ax.grid()\n",
    "ax.set_xlabel(\"Redshift\")\n",
    "ax.set_ylabel(\"$R \\chi$ (Glyr)\")\n",
    "saveFigure(fig, \"proper_dist_vs_redshift\")\n"
   ]
  },
  {
   "cell_type": "markdown",
   "metadata": {},
   "source": [
    "### 1.4 Luminosity distance and Angular diameter distance\n",
    "\n",
    "Luminosity distance ($D_L$) and angular diameter distance ($D_A$) are given by,\n",
    "$$ D_L = R S_k(\\chi) (1+z) $$\n",
    "$$ D_A = R S_k(\\chi) / (1+z) $$\n",
    "\n",
    "Where $S_k(\\chi) = \\sin(\\chi),\\chi,\\sinh(\\chi)$ for positive, flat, and negative curvatures respectively, i.e. for $\\Omega_K<0$, $\\Omega_K=0$, and $\\Omega_K>0$ respectively.  \n",
    "(Yes, $\\Omega_K<0$ is positive curvature!) "
   ]
  },
  {
   "cell_type": "markdown",
   "metadata": {},
   "source": [
    "#### Hint!  How to calculate $S_k(\\chi)$\n",
    "Note that if you've kept the constants out of your definition of Ez then, xx $:= R_0\\chi/(c/H_0)$.  It is handy to know that,\n",
    "$$  \\frac{c}{R_0H_0}=\\sqrt{|\\Omega_K|} $$\n",
    "so to just get $\\chi$ you can use xx multiplied by $\\sqrt{|\\Omega_K|}$.  \n",
    "Then to get $R_0 S_k(\\chi)/(c/H_0)$ divide the whole thing by $\\sqrt{|\\Omega_K|}$."
   ]
  },
  {
   "cell_type": "code",
   "execution_count": 47,
   "metadata": {},
   "outputs": [],
   "source": [
    "def Sk(xx, ok):\n",
    "    \"\"\"\n",
    "    You may find this function useful to calculate the perpendicular comoving distance R0*Sk(X)\n",
    "        Corrects the comoving distance, xx, for curvature, ok.\n",
    "        Result is perpendicular comoving distance / (c/H0)\n",
    "        i.e. it's the distance to use in angular diameter and luminosity distance\n",
    "\n",
    "    This returns a value for R_0S_k(\\chi) that you multiply by c/H_0 to give it units.\n",
    "    \"\"\"\n",
    "    if ok < 0.0:\n",
    "        return np.sin(np.sqrt(-ok) * xx) / np.sqrt(-ok)\n",
    "    elif ok > 0.0:\n",
    "        return np.sinh(np.sqrt(ok) * xx) / np.sqrt(ok)\n",
    "    else:\n",
    "        return xx\n"
   ]
  },
  {
   "cell_type": "markdown",
   "metadata": {},
   "source": [
    "#### Calculate $D_L(z)$ and $D_A(z)$\n",
    "Plot the present day values ($R=R_0$) of luminosity distance and angular diameter distance as a function of redshift. Do you notice anything interesting about the angular diameter distance at high-redshift?"
   ]
  },
  {
   "cell_type": "code",
   "execution_count": 48,
   "metadata": {},
   "outputs": [
    {
     "data": {
      "image/png": "[encoded data removed]",
      "text/plain": [
       "<Figure size 432x288 with 1 Axes>"
      ]
     },
     "metadata": {
      "needs_background": "light"
     },
     "output_type": "display_data"
    }
   ],
   "source": [
    "om = 0.3\n",
    "ol = 0.7\n",
    "# to get c/H0 in Glyr, we have c in km/s, c/H0s gives km, convert to Glyr\n",
    "\n",
    "zstart = 0.0\n",
    "zstop = 4.1\n",
    "zstep = 0.1  # Make this finer to make the plot smoother\n",
    "z_arr = np.arange(zstart, zstop, zstep)\n",
    "\n",
    "myIntegrand = lambda x: integrand(x, 0, om, ol)\n",
    "# xx_arr = np.array([integrate.quad(integrand,1,z, args=(0, om, ol))[0] for z in z_arr])\n",
    "xx_arr = np.array([integrate.quad(myIntegrand, 0, z)[0] for z in z_arr])\n",
    "\n",
    "R0X_arr = xx_arr * cH0Glyr\n",
    "\n",
    "ok = 1 - om - ol\n",
    "# Proper distance\n",
    "DD = R0X_arr\n",
    "# Luminosity distance\n",
    "DL = Sk(xx_arr, ok) * (1 + z_arr) * cH0Glyr\n",
    "# Angular diameter distance\n",
    "# DL = Sk(xx_arr, ok) / (1 + z_arr) * cH0Glyr\n",
    "DA = DL / ((1 + z_arr) ** 2)\n",
    "\n",
    "fig, ax = plt.subplots()\n",
    "ax.plot(z_arr, DD, label=\"Proper Distance\")\n",
    "ax.plot(z_arr, DL, label=\"Luminosity Distance\")\n",
    "ax.plot(z_arr, DA, label=\"Angular Diameter Distance\")\n",
    "ax.legend()\n",
    "ax.grid()\n",
    "ax.set_xlabel(\"Redshift\")\n",
    "ax.set_ylabel(\"Distances (Glyr)\")\n",
    "saveFigure(fig, \"all_3_types_of_distances\")\n"
   ]
  }
 ],
 "metadata": {
  "interpreter": {
   "hash": "c6d99037cd18642863b33d47e2da00e17e4c9e862d4cf6cb7c9aa35a61141c58"
  },
  "kernelspec": {
   "display_name": "Python 3.10.2 64-bit",
   "language": "python",
   "name": "python3"
  },
  "language_info": {
   "codemirror_mode": {
    "name": "ipython",
    "version": 3
   },
   "file_extension": ".py",
   "mimetype": "text/x-python",
   "name": "python",
   "nbconvert_exporter": "python",
   "pygments_lexer": "ipython3",
   "version": "3.10.4"
  }
 },
 "nbformat": 4,
 "nbformat_minor": 2
}
